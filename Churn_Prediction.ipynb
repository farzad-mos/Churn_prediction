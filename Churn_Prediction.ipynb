{
  "nbformat": 4,
  "nbformat_minor": 0,
  "metadata": {
    "colab": {
      "provenance": [],
      "authorship_tag": "ABX9TyMsaearOj1TPipn7WEsmL9l",
      "include_colab_link": true
    },
    "kernelspec": {
      "name": "python3",
      "display_name": "Python 3"
    },
    "language_info": {
      "name": "python"
    }
  },
  "cells": [
    {
      "cell_type": "markdown",
      "metadata": {
        "id": "view-in-github",
        "colab_type": "text"
      },
      "source": [
        "<a href=\"https://colab.research.google.com/github/farzad-mos/Churn_prediction/blob/main/Churn_Prediction.ipynb\" target=\"_parent\"><img src=\"https://colab.research.google.com/assets/colab-badge.svg\" alt=\"Open In Colab\"/></a>"
      ]
    },
    {
      "cell_type": "markdown",
      "source": [
        "### 1:\tImport\tNecessary\tLibraries\tand\tLoad\tDataset\n",
        "read the file in a .csv file"
      ],
      "metadata": {
        "id": "sYZbDXGCwIuA"
      }
    },
    {
      "cell_type": "code",
      "source": [
        "#  Data Handling import pandas  as pd import numpy as np\n",
        "\n",
        "#  Visualization\n",
        "import matplotlib.pyplot as plt\n",
        "import seaborn as sns\n",
        "\n",
        "#  Preprocessing\n",
        "from sklearn.preprocessing import LabelEncoder, StandardScaler\n",
        "from sklearn.model_selection import train_test_split\n",
        "\n",
        "#  Model Evaluation\n",
        "from sklearn.metrics import classification_report, confusion_matrix\n",
        "\n",
        "#  Deep Learning\n",
        "import tensorflow as tf\n",
        "from tensorflow import keras\n",
        "from tensorflow.keras.models import Sequential\n",
        "from tensorflow.keras.layers import Dense, Dropout\n",
        "\n",
        "#  Load dataset\n",
        "df = pd.read_csv('Telco-Customer-Churn.csv')\n",
        "\n",
        "#  Display top rows\n",
        "df.head()"
      ],
      "metadata": {
        "id": "653KwgdOwUWq"
      },
      "execution_count": null,
      "outputs": []
    },
    {
      "cell_type": "markdown",
      "source": [
        "### 2: Exploratory Data Analysis (EDA)"
      ],
      "metadata": {
        "id": "IYm_K7y0w_WF"
      }
    },
    {
      "cell_type": "code",
      "source": [
        "#  Dataset structure\n",
        "df.info()\n",
        "\n",
        "#  Check for missing values\n",
        "df.isnull().sum()\n",
        "\n",
        "#  TotalCharges has 11  blank values - investigate\n",
        "df[df['TotalCharges'].isnull()]\n",
        "\n",
        "#  Convert TotalCharges to numeric\n",
        "df['TotalCharges'] = pd.to_numeric(df['TotalCharges'], errors='coerce')\n",
        "\n",
        "#  Drop rows with missing TotalCharges\n",
        "df.dropna(subset=['TotalCharges'], inplace=True)\n",
        "\n",
        "#  Check for class balance\n",
        "sns.countplot(data=df, x='Churn')\n",
        "plt.title(\"Class Distribution (Churn)\") plt.show()\n",
        "\n",
        "#  Quick correlation heatmap\n",
        "plt.figure(figsize=(12, 6))\n",
        "sns.heatmap(df.corr(numeric_only=True), annot=True)\n",
        "plt.title(\"Correlation Heatmap\")\n",
        "plt.show()\n"
      ],
      "metadata": {
        "id": "kRhpZqAYw_EA"
      },
      "execution_count": null,
      "outputs": []
    },
    {
      "cell_type": "markdown",
      "source": [
        "### 3: Feature Engineering and Encoding"
      ],
      "metadata": {
        "id": "Sohs7GpIxZGZ"
      }
    },
    {
      "cell_type": "code",
      "source": [
        "#  Drop customerID\n",
        "df.drop('customerID', axis=1, inplace=True)\n",
        "\n",
        "#  Binary features: Label Encoding\n",
        "binary_cols = ['gender', 'Partner', 'Dependents', 'PhoneService',\n",
        "               'PaperlessBilling', 'Churn']\n",
        "\n",
        "le = LabelEncoder()\n",
        "for col in binary_cols:\n",
        "    df[col] = le.fit_transform(df[col])\n",
        "\n",
        "#  Multicategory columns: One-Hot Encoding\n",
        "multi_cat_cols = ['MultipleLines', 'InternetService', 'OnlineSecurity',\n",
        "                  'OnlineBackup', 'DeviceProtection', 'TechSupport',\n",
        "                  'StreamingTV', 'StreamingMovies', 'Contract', 'PaymentMethod']\n",
        "\n",
        "df = pd.get_dummies(df, columns=multi_cat_cols)\n",
        "\n",
        "#  Feature Scaling (tenure, MonthlyCharges, TotalCharges)\n",
        "scaler = StandardScaler()\n",
        "df[['tenure', 'MonthlyCharges', 'TotalCharges']] = scaler.fit_transform(df[[\n",
        "    'tenure', 'MonthlyCharges', 'TotalCharges']])\n",
        "\n",
        "#  Separate features and target\n",
        "X = df.drop('Churn', axis=1)\n",
        "y  = df['Churn']\n"
      ],
      "metadata": {
        "id": "VKSz5nyUxbme"
      },
      "execution_count": null,
      "outputs": []
    },
    {
      "cell_type": "markdown",
      "source": [
        "### 4: Train-Test Split and Validation Set"
      ],
      "metadata": {
        "id": "UGLy_yXMyAl9"
      }
    },
    {
      "cell_type": "code",
      "source": [
        "#  Train-test split (80/20 with validation in training set)\n",
        "X_train, X_test, y_train, y_test = train_test_split(X, y, test_size=0.2,\n",
        "                                                  stratify=y, random_state=42)\n",
        "\n",
        "#  Further split training set to get validation data\n",
        "X_train, X_val, y_train, y_val = train_test_split(X_train, y_train,\n",
        "                              test_size=0.2, stratify=y_train, random_state=42)\n",
        "\n",
        "\n",
        "\n"
      ],
      "metadata": {
        "id": "riGbmPLjyCLb"
      },
      "execution_count": null,
      "outputs": []
    },
    {
      "cell_type": "markdown",
      "source": [
        "###   5: Build and Train ANN with Dropout Regularization"
      ],
      "metadata": {
        "id": "Eqnr22ntyUUe"
      }
    },
    {
      "cell_type": "code",
      "source": [
        "#  Define model. Here I used Dropout randomly drop 30%  of Neurons from the previous layer because the model over\n",
        "model = Sequential()\n",
        "model.add(Dense(64, input_dim=X_train.shape[1], activation='relu'))\n",
        "model.add(Dropout(0.3))\n",
        "model.add(Dense(32, activation='relu'))\n",
        "model.add(Dropout(0.3))\n",
        "model.add(Dense(1, activation='sigmoid'))\n",
        "\n",
        "#  Compile model\n",
        "model.compile(optimizer='adam', loss='binary_crossentropy',\n",
        "              metrics=['accuracy'])\n",
        "\n",
        "#  Train model\n",
        "history = model.fit(X_train, y_train,\n",
        "                    validation_data=(X_val, y_val),\n",
        "                    epochs=50, batch_size=64, verbose=1)\n"
      ],
      "metadata": {
        "id": "OPKPepGpyV1b"
      },
      "execution_count": null,
      "outputs": []
    },
    {
      "cell_type": "markdown",
      "source": [
        "### 6: Visualize Loss and Accuracy Curves"
      ],
      "metadata": {
        "id": "YlYmT-Bzykcj"
      }
    },
    {
      "cell_type": "code",
      "source": [
        "#  Accuracy plot\n",
        "plt.plot(history.history['accuracy'], label='Train Accuracy')\n",
        "plt.plot(history.history['val_accuracy'], label='Val Accuracy')\n",
        "plt.title('Model Accuracy')\n",
        "plt.xlabel('Epoch') plt.ylabel('Accuracy')\n",
        "plt.legend()\n",
        "plt.show()\n",
        "\n",
        "#  Loss plot\n",
        "plt.plot(history.history['loss'], label='Train Loss')\n",
        "plt.plot(history.history['val_loss'], label='Val Loss')\n",
        "plt.title('Model Loss')\n",
        "plt.xlabel('Epoch')\n",
        "plt.ylabel('Loss')\n",
        "plt.legend()\n",
        "plt.show()\n"
      ],
      "metadata": {
        "id": "XtJZj3joyv_L"
      },
      "execution_count": null,
      "outputs": []
    },
    {
      "cell_type": "markdown",
      "source": [
        "### 7: Evaluate on Test Data"
      ],
      "metadata": {
        "id": "3WmtghKFy1S7"
      }
    },
    {
      "cell_type": "code",
      "source": [
        "#  Predictions\n",
        "y_pred_prob = model.predict(X_test)\n",
        "y_pred = (y_pred_prob > 0.5).astype(int)\n",
        "\n",
        "#  Confusion Matrix\n",
        "cm = confusion_matrix(y_test, y_pred) sns.heatmap(cm, annot=True,\n",
        "    fmt=\"d\", cmap=\"Blues\") plt.title(\"Confusion Matrix\") plt.xlabel(\"Predicted\")\n",
        "plt.ylabel(\"Actual\")\n",
        "plt.show()\n",
        "\n",
        "#  Classification Report\n",
        "print(classification_report(y_test, y_pred, target_names=['No Churn', 'Churn']))"
      ],
      "metadata": {
        "id": "kB3eqAcJy0_0"
      },
      "execution_count": null,
      "outputs": []
    }
  ]
}